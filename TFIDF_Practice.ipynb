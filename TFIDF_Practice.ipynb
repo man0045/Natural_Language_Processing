{
  "nbformat": 4,
  "nbformat_minor": 0,
  "metadata": {
    "colab": {
      "provenance": [],
      "authorship_tag": "ABX9TyP8DivvlNPFOjCdsAs461b6",
      "include_colab_link": true
    },
    "kernelspec": {
      "name": "python3",
      "display_name": "Python 3"
    },
    "language_info": {
      "name": "python"
    }
  },
  "cells": [
    {
      "cell_type": "markdown",
      "metadata": {
        "id": "view-in-github",
        "colab_type": "text"
      },
      "source": [
        "<a href=\"https://colab.research.google.com/github/man0045/Natural_Language_Processing/blob/main/TFIDF_Practice.ipynb\" target=\"_parent\"><img src=\"https://colab.research.google.com/assets/colab-badge.svg\" alt=\"Open In Colab\"/></a>"
      ]
    },
    {
      "cell_type": "code",
      "execution_count": 2,
      "metadata": {
        "id": "Rs57OS7ZQKUA"
      },
      "outputs": [],
      "source": [
        "corpus = ['The world of technology is constantly evolving, with new innovations emerging at an unprecedented pace, shaping the way we live, work, and interact with one another. From artificial intelligence and machine learning to blockchain and quantum computing, the rapid advancements in these fields are revolutionizing industries across the globe. AI-driven automation is streamlining business operations, enabling companies to optimize efficiency, reduce costs, and enhance customer experiences like never before. Machine learning algorithms are being used to analyze vast amounts of data, uncovering valuable insights that help businesses make informed decisions, predict trends, and personalize user interactions. Meanwhile, blockchain technology is transforming the financial sector by offering decentralized and secure transactions, reducing the risk of fraud, and improving transparency in supply chains, digital identity verification, and smart contracts. Quantum computing, though still in its early stages, holds the potential to solve complex problems that are currently beyond the capabilities of classical computers, opening doors to groundbreaking discoveries in medicine, cryptography, and material science. As technology advances, cybersecurity has become a major concern, with cyber threats evolving alongside digital innovations. Organizations must invest in robust security measures, such as encryption, multi-factor authentication, and continuous monitoring, to safeguard sensitive data from malicious actors. The rise of the Internet of Things (IoT) has further expanded the digital landscape, connecting billions of devices and generating massive amounts of real-time data that can be leveraged for smart cities, healthcare, and industrial automation. The increasing reliance on technology has also led to ethical discussions regarding data privacy, AI biases, and the responsible use of emerging technologies. Governments and organizations must establish regulations and policies to ensure that technology is developed and implemented ethically, prioritizing user privacy, fairness, and accountability. On a broader scale, the integration of technology into various sectors, including education, healthcare, transportation, and entertainment, is reshaping societal norms and improving the quality of life. E-learning platforms powered by AI and virtual reality are making education more accessible, enabling personalized learning experiences for students worldwide. In healthcare, AI-powered diagnostic tools and robotic surgeries are enhancing medical precision and efficiency, leading to better patient outcomes. Autonomous vehicles and smart traffic management systems are revolutionizing transportation, reducing accidents, optimizing traffic flow, and minimizing carbon emissions. Meanwhile, the entertainment industry is embracing virtual reality, augmented reality, and AI-generated content to offer immersive and interactive experiences for audiences. As technology continues to progress, the world must navigate both its opportunities and challenges, ensuring that innovation serves humanity in a responsible and sustainable manner. The future holds limitless possibilities, and it is up to individuals, businesses, and policymakers to harness the power of technology for the greater good, fostering a world where digital advancements drive positive change, inclusivity, and progress for generations to come.']"
      ]
    },
    {
      "cell_type": "code",
      "source": [
        "vocab = []\n",
        "totalwords = 0\n",
        "for sentence in corpus:\n",
        "    words = sentence.split()\n",
        "    totalwords += len(words)\n",
        "    for word in words:\n",
        "        if word not in vocab:\n",
        "            vocab.append(word)\n",
        "vocab.sort()\n",
        "print(vocab)"
      ],
      "metadata": {
        "colab": {
          "base_uri": "https://localhost:8080/"
        },
        "id": "LRlNqgnYYAWt",
        "outputId": "bece7d55-09e4-4eac-cde2-f9ce4a3bf394"
      },
      "execution_count": 3,
      "outputs": [
        {
          "output_type": "stream",
          "name": "stdout",
          "text": [
            "['(IoT)', 'AI', 'AI-driven', 'AI-generated', 'AI-powered', 'As', 'Autonomous', 'E-learning', 'From', 'Governments', 'In', 'Internet', 'Machine', 'Meanwhile,', 'On', 'Organizations', 'Quantum', 'The', 'Things', 'a', 'accessible,', 'accidents,', 'accountability.', 'across', 'actors.', 'advancements', 'advances,', 'algorithms', 'alongside', 'also', 'amounts', 'an', 'analyze', 'and', 'another.', 'are', 'artificial', 'as', 'at', 'audiences.', 'augmented', 'authentication,', 'automation', 'automation.', 'be', 'become', 'before.', 'being', 'better', 'beyond', 'biases,', 'billions', 'blockchain', 'both', 'broader', 'business', 'businesses', 'businesses,', 'by', 'can', 'capabilities', 'carbon', 'chains,', 'challenges,', 'change,', 'cities,', 'classical', 'come.', 'companies', 'complex', 'computers,', 'computing,', 'concern,', 'connecting', 'constantly', 'content', 'continues', 'continuous', 'contracts.', 'costs,', 'cryptography,', 'currently', 'customer', 'cyber', 'cybersecurity', 'data', 'data,', 'decentralized', 'decisions,', 'developed', 'devices', 'diagnostic', 'digital', 'discoveries', 'discussions', 'doors', 'drive', 'early', 'education', 'education,', 'efficiency,', 'embracing', 'emerging', 'emissions.', 'enabling', 'encryption,', 'enhance', 'enhancing', 'ensure', 'ensuring', 'entertainment', 'entertainment,', 'establish', 'ethical', 'ethically,', 'evolving', 'evolving,', 'expanded', 'experiences', 'fairness,', 'fields', 'financial', 'flow,', 'for', 'fostering', 'fraud,', 'from', 'further', 'future', 'generating', 'generations', 'globe.', 'good,', 'greater', 'groundbreaking', 'harness', 'has', 'healthcare,', 'help', 'holds', 'humanity', 'identity', 'immersive', 'implemented', 'improving', 'in', 'including', 'inclusivity,', 'increasing', 'individuals,', 'industrial', 'industries', 'industry', 'informed', 'innovation', 'innovations', 'innovations.', 'insights', 'integration', 'intelligence', 'interact', 'interactions.', 'interactive', 'into', 'invest', 'is', 'it', 'its', 'landscape,', 'leading', 'learning', 'led', 'leveraged', 'life.', 'like', 'limitless', 'live,', 'machine', 'major', 'make', 'making', 'malicious', 'management', 'manner.', 'massive', 'material', 'measures,', 'medical', 'medicine,', 'minimizing', 'monitoring,', 'more', 'multi-factor', 'must', 'navigate', 'never', 'new', 'norms', 'of', 'offer', 'offering', 'on', 'one', 'opening', 'operations,', 'opportunities', 'optimize', 'optimizing', 'organizations', 'outcomes.', 'pace,', 'patient', 'personalize', 'personalized', 'platforms', 'policies', 'policymakers', 'positive', 'possibilities,', 'potential', 'power', 'powered', 'precision', 'predict', 'prioritizing', 'privacy,', 'problems', 'progress', 'progress,', 'quality', 'quantum', 'rapid', 'real-time', 'reality', 'reality,', 'reduce', 'reducing', 'regarding', 'regulations', 'reliance', 'reshaping', 'responsible', 'revolutionizing', 'rise', 'risk', 'robotic', 'robust', 'safeguard', 'scale,', 'science.', 'sector', 'sectors,', 'secure', 'security', 'sensitive', 'serves', 'shaping', 'smart', 'societal', 'solve', 'stages,', 'still', 'streamlining', 'students', 'such', 'supply', 'surgeries', 'sustainable', 'systems', 'technologies.', 'technology', 'that', 'the', 'these', 'though', 'threats', 'to', 'tools', 'traffic', 'transactions,', 'transforming', 'transparency', 'transportation,', 'trends,', 'uncovering', 'unprecedented', 'up', 'use', 'used', 'user', 'valuable', 'various', 'vast', 'vehicles', 'verification,', 'virtual', 'way', 'we', 'where', 'with', 'work,', 'world', 'worldwide.']\n"
          ]
        }
      ]
    },
    {
      "cell_type": "code",
      "source": [
        "from sklearn.feature_extraction.text import CountVectorizer\n",
        "cv = CountVectorizer(max_features= 1500)\n",
        "x_bow = cv.fit_transform(corpus).toarray()\n",
        "print(x_bow)\n",
        "from sklearn.feature_extraction.text import TfidfVectorizer\n",
        "TfidfVectorizer = TfidfVectorizer(max_features= 1500)\n",
        "X_tfidf = TfidfVectorizer.fit_transform(corpus).toarray()\n",
        "print(X_tfidf)"
      ],
      "metadata": {
        "colab": {
          "base_uri": "https://localhost:8080/"
        },
        "id": "jIzfVwYtX7RQ",
        "outputId": "d09e1135-986b-40d7-f7ae-e1285658efe9"
      },
      "execution_count": 5,
      "outputs": [
        {
          "output_type": "stream",
          "name": "stdout",
          "text": [
            "[[ 1  1  1  1  1  2  1  5  1  1  1  2  1  1 31  1  6  1  3  1  1  1  1  2\n",
            "   1  1  1  1  1  1  1  1  1  2  1  1  1  2  2  1  1  1  1  1  1  1  1  1\n",
            "   1  1  1  2  1  1  1  1  1  1  1  1  1  1  1  1  1  4  1  1  1  1  1  4\n",
            "   1  1  1  1  1  1  2  2  1  2  1  2  1  1  1  1  1  2  1  1  1  2  1  3\n",
            "   1  1  1  1  1  5  1  1  2  1  1  1  1  1  1  1  1  1  1  1  3  3  1  2\n",
            "   1  1  1  1  2  7  1  1  1  1  1  1  1  1  1  2  1  1  1  1  1  1  1  1\n",
            "   1  1  7  1  2  1  1  4  1  1  1  1  1  1  2  1  1  1  1  1  1  1  1  2\n",
            "   1  1  1  1  1  1  1  3  1  1  1  1 12  1  1  2  1  1  1  1  1  1  2  1\n",
            "   1  1  1  1  1  1  1  1  1  1  1  2  1  1  1  2  1  2  1  2  1  1  3  1\n",
            "   2  1  1  1  1  2  2  1  1  1  1  1  1  1  1  1  1  1  1  1  1  3  1  1\n",
            "   1  1  1  1  1  1  1  1  1  1  8  5 20  1  1  1  1  1 14  1  2  1  1  1\n",
            "   2  1  1  1  1  1  1  2  1  1  1  1  1  2  1  1  1  3  1  3  1]]\n",
            "[[0.02014557 0.02014557 0.02014557 0.02014557 0.02014557 0.04029115\n",
            "  0.02014557 0.10072787 0.02014557 0.02014557 0.02014557 0.04029115\n",
            "  0.02014557 0.02014557 0.6245128  0.02014557 0.12087344 0.02014557\n",
            "  0.06043672 0.02014557 0.02014557 0.02014557 0.02014557 0.04029115\n",
            "  0.02014557 0.02014557 0.02014557 0.02014557 0.02014557 0.02014557\n",
            "  0.02014557 0.02014557 0.02014557 0.04029115 0.02014557 0.02014557\n",
            "  0.02014557 0.04029115 0.04029115 0.02014557 0.02014557 0.02014557\n",
            "  0.02014557 0.02014557 0.02014557 0.02014557 0.02014557 0.02014557\n",
            "  0.02014557 0.02014557 0.02014557 0.04029115 0.02014557 0.02014557\n",
            "  0.02014557 0.02014557 0.02014557 0.02014557 0.02014557 0.02014557\n",
            "  0.02014557 0.02014557 0.02014557 0.02014557 0.02014557 0.0805823\n",
            "  0.02014557 0.02014557 0.02014557 0.02014557 0.02014557 0.0805823\n",
            "  0.02014557 0.02014557 0.02014557 0.02014557 0.02014557 0.02014557\n",
            "  0.04029115 0.04029115 0.02014557 0.04029115 0.02014557 0.04029115\n",
            "  0.02014557 0.02014557 0.02014557 0.02014557 0.02014557 0.04029115\n",
            "  0.02014557 0.02014557 0.02014557 0.04029115 0.02014557 0.06043672\n",
            "  0.02014557 0.02014557 0.02014557 0.02014557 0.02014557 0.10072787\n",
            "  0.02014557 0.02014557 0.04029115 0.02014557 0.02014557 0.02014557\n",
            "  0.02014557 0.02014557 0.02014557 0.02014557 0.02014557 0.02014557\n",
            "  0.02014557 0.02014557 0.06043672 0.06043672 0.02014557 0.04029115\n",
            "  0.02014557 0.02014557 0.02014557 0.02014557 0.04029115 0.14101902\n",
            "  0.02014557 0.02014557 0.02014557 0.02014557 0.02014557 0.02014557\n",
            "  0.02014557 0.02014557 0.02014557 0.04029115 0.02014557 0.02014557\n",
            "  0.02014557 0.02014557 0.02014557 0.02014557 0.02014557 0.02014557\n",
            "  0.02014557 0.02014557 0.14101902 0.02014557 0.04029115 0.02014557\n",
            "  0.02014557 0.0805823  0.02014557 0.02014557 0.02014557 0.02014557\n",
            "  0.02014557 0.02014557 0.04029115 0.02014557 0.02014557 0.02014557\n",
            "  0.02014557 0.02014557 0.02014557 0.02014557 0.02014557 0.04029115\n",
            "  0.02014557 0.02014557 0.02014557 0.02014557 0.02014557 0.02014557\n",
            "  0.02014557 0.06043672 0.02014557 0.02014557 0.02014557 0.02014557\n",
            "  0.24174689 0.02014557 0.02014557 0.04029115 0.02014557 0.02014557\n",
            "  0.02014557 0.02014557 0.02014557 0.02014557 0.04029115 0.02014557\n",
            "  0.02014557 0.02014557 0.02014557 0.02014557 0.02014557 0.02014557\n",
            "  0.02014557 0.02014557 0.02014557 0.02014557 0.02014557 0.04029115\n",
            "  0.02014557 0.02014557 0.02014557 0.04029115 0.02014557 0.04029115\n",
            "  0.02014557 0.04029115 0.02014557 0.02014557 0.06043672 0.02014557\n",
            "  0.04029115 0.02014557 0.02014557 0.02014557 0.02014557 0.04029115\n",
            "  0.04029115 0.02014557 0.02014557 0.02014557 0.02014557 0.02014557\n",
            "  0.02014557 0.02014557 0.02014557 0.02014557 0.02014557 0.02014557\n",
            "  0.02014557 0.02014557 0.02014557 0.06043672 0.02014557 0.02014557\n",
            "  0.02014557 0.02014557 0.02014557 0.02014557 0.02014557 0.02014557\n",
            "  0.02014557 0.02014557 0.02014557 0.02014557 0.16116459 0.10072787\n",
            "  0.40291148 0.02014557 0.02014557 0.02014557 0.02014557 0.02014557\n",
            "  0.28203804 0.02014557 0.04029115 0.02014557 0.02014557 0.02014557\n",
            "  0.04029115 0.02014557 0.02014557 0.02014557 0.02014557 0.02014557\n",
            "  0.02014557 0.04029115 0.02014557 0.02014557 0.02014557 0.02014557\n",
            "  0.02014557 0.04029115 0.02014557 0.02014557 0.02014557 0.06043672\n",
            "  0.02014557 0.06043672 0.02014557]]\n"
          ]
        }
      ]
    },
    {
      "cell_type": "code",
      "source": [
        "import seaborn as sns"
      ],
      "metadata": {
        "id": "xFoI8HFm3kU6"
      },
      "execution_count": 6,
      "outputs": []
    },
    {
      "cell_type": "code",
      "source": [
        "sns.heatmap(X_tfidf)"
      ],
      "metadata": {
        "colab": {
          "base_uri": "https://localhost:8080/",
          "height": 459
        },
        "id": "OlclLV2v37Ew",
        "outputId": "914abb84-e509-4050-c161-6bc66d7c0919"
      },
      "execution_count": 9,
      "outputs": [
        {
          "output_type": "execute_result",
          "data": {
            "text/plain": [
              "<Axes: >"
            ]
          },
          "metadata": {},
          "execution_count": 9
        },
        {
          "output_type": "display_data",
          "data": {
            "text/plain": [
              "<Figure size 640x480 with 2 Axes>"
            ],
            "image/png": "[encoded data removed]"
          },
          "metadata": {}
        }
      ]
    },
    {
      "cell_type": "code",
      "source": [],
      "metadata": {
        "id": "esJcoq9u3_Pr"
      },
      "execution_count": null,
      "outputs": []
    }
  ]
}