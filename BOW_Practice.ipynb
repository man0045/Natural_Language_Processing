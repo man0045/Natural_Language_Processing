{
  "nbformat": 4,
  "nbformat_minor": 0,
  "metadata": {
    "colab": {
      "provenance": [],
      "authorship_tag": "ABX9TyPxNSw5J8mwp59oIzzBX0FN",
      "include_colab_link": true
    },
    "kernelspec": {
      "name": "python3",
      "display_name": "Python 3"
    },
    "language_info": {
      "name": "python"
    }
  },
  "cells": [
    {
      "cell_type": "markdown",
      "metadata": {
        "id": "view-in-github",
        "colab_type": "text"
      },
      "source": [
        "<a href=\"https://colab.research.google.com/github/man0045/Natural_Language_Processing/blob/main/BOW_Practice.ipynb\" target=\"_parent\"><img src=\"https://colab.research.google.com/assets/colab-badge.svg\" alt=\"Open In Colab\"/></a>"
      ]
    },
    {
      "cell_type": "code",
      "execution_count": 2,
      "metadata": {
        "id": "qIdo1JqkPZ8H"
      },
      "outputs": [],
      "source": [
        "paragraph = \"\"\"The world of technology is constantly evolving, with new innovations emerging at an unprecedented pace, shaping the way we live, work, and interact with one another. From artificial intelligence and machine learning to blockchain and quantum computing, the rapid advancements in these fields are revolutionizing industries across the globe. AI-driven automation is streamlining business operations, enabling companies to optimize efficiency, reduce costs, and enhance customer experiences like never before. Machine learning algorithms are being used to analyze vast amounts of data, uncovering valuable insights that help businesses make informed decisions, predict trends, and personalize user interactions. Meanwhile, blockchain technology is transforming the financial sector by offering decentralized and secure transactions, reducing the risk of fraud, and improving transparency in supply chains, digital identity verification, and smart contracts. Quantum computing, though still in its early stages, holds the potential to solve complex problems that are currently beyond the capabilities of classical computers, opening doors to groundbreaking discoveries in medicine, cryptography, and material science. As technology advances, cybersecurity has become a major concern, with cyber threats evolving alongside digital innovations. Organizations must invest in robust security measures, such as encryption, multi-factor authentication, and continuous monitoring, to safeguard sensitive data from malicious actors. The rise of the Internet of Things (IoT) has further expanded the digital landscape, connecting billions of devices and generating massive amounts of real-time data that can be leveraged for smart cities, healthcare, and industrial automation. The increasing reliance on technology has also led to ethical discussions regarding data privacy, AI biases, and the responsible use of emerging technologies. Governments and organizations must establish regulations and policies to ensure that technology is developed and implemented ethically, prioritizing user privacy, fairness, and accountability. On a broader scale, the integration of technology into various sectors, including education, healthcare, transportation, and entertainment, is reshaping societal norms and improving the quality of life. E-learning platforms powered by AI and virtual reality are making education more accessible, enabling personalized learning experiences for students worldwide. In healthcare, AI-powered diagnostic tools and robotic surgeries are enhancing medical precision and efficiency, leading to better patient outcomes. Autonomous vehicles and smart traffic management systems are revolutionizing transportation, reducing accidents, optimizing traffic flow, and minimizing carbon emissions. Meanwhile, the entertainment industry is embracing virtual reality, augmented reality, and AI-generated content to offer immersive and interactive experiences for audiences. As technology continues to progress, the world must navigate both its opportunities and challenges, ensuring that innovation serves humanity in a responsible and sustainable manner. The future holds limitless possibilities, and it is up to individuals, businesses, and policymakers to harness the power of technology for the greater good, fostering a world where digital advancements drive positive change, inclusivity, and progress for generations to come.\"\"\""
      ]
    },
    {
      "cell_type": "code",
      "source": [
        "import re"
      ],
      "metadata": {
        "id": "LbXDZkoDRikB"
      },
      "execution_count": 5,
      "outputs": []
    },
    {
      "cell_type": "code",
      "source": [
        "import nltk\n",
        "nltk.download('punkt')\n",
        "nltk.download('stopwords')\n",
        "nltk.download('punkt_tab')\n",
        "from nltk.stem.porter import PorterStemmer\n",
        "from nltk.corpus import stopwords\n",
        "stemmer = PorterStemmer\n",
        "sentences = nltk.sent_tokenize(paragraph)"
      ],
      "metadata": {
        "colab": {
          "base_uri": "https://localhost:8080/"
        },
        "id": "Xwwq7YtDP8ld",
        "outputId": "d568c52e-723f-4076-bbc2-fade69767aad"
      },
      "execution_count": 3,
      "outputs": [
        {
          "output_type": "stream",
          "name": "stderr",
          "text": [
            "[nltk_data] Downloading package punkt to /root/nltk_data...\n",
            "[nltk_data]   Unzipping tokenizers/punkt.zip.\n",
            "[nltk_data] Downloading package stopwords to /root/nltk_data...\n",
            "[nltk_data]   Unzipping corpora/stopwords.zip.\n",
            "[nltk_data] Downloading package punkt_tab to /root/nltk_data...\n",
            "[nltk_data]   Unzipping tokenizers/punkt_tab.zip.\n"
          ]
        }
      ]
    },
    {
      "cell_type": "code",
      "source": [
        "sentences"
      ],
      "metadata": {
        "colab": {
          "base_uri": "https://localhost:8080/"
        },
        "id": "m2b8Jb2vQ8CM",
        "outputId": "f7a3c0f6-245b-4e5c-b866-bd8c3beba236"
      },
      "execution_count": 4,
      "outputs": [
        {
          "output_type": "execute_result",
          "data": {
            "text/plain": [
              "['The world of technology is constantly evolving, with new innovations emerging at an unprecedented pace, shaping the way we live, work, and interact with one another.',\n",
              " 'From artificial intelligence and machine learning to blockchain and quantum computing, the rapid advancements in these fields are revolutionizing industries across the globe.',\n",
              " 'AI-driven automation is streamlining business operations, enabling companies to optimize efficiency, reduce costs, and enhance customer experiences like never before.',\n",
              " 'Machine learning algorithms are being used to analyze vast amounts of data, uncovering valuable insights that help businesses make informed decisions, predict trends, and personalize user interactions.',\n",
              " 'Meanwhile, blockchain technology is transforming the financial sector by offering decentralized and secure transactions, reducing the risk of fraud, and improving transparency in supply chains, digital identity verification, and smart contracts.',\n",
              " 'Quantum computing, though still in its early stages, holds the potential to solve complex problems that are currently beyond the capabilities of classical computers, opening doors to groundbreaking discoveries in medicine, cryptography, and material science.',\n",
              " 'As technology advances, cybersecurity has become a major concern, with cyber threats evolving alongside digital innovations.',\n",
              " 'Organizations must invest in robust security measures, such as encryption, multi-factor authentication, and continuous monitoring, to safeguard sensitive data from malicious actors.',\n",
              " 'The rise of the Internet of Things (IoT) has further expanded the digital landscape, connecting billions of devices and generating massive amounts of real-time data that can be leveraged for smart cities, healthcare, and industrial automation.',\n",
              " 'The increasing reliance on technology has also led to ethical discussions regarding data privacy, AI biases, and the responsible use of emerging technologies.',\n",
              " 'Governments and organizations must establish regulations and policies to ensure that technology is developed and implemented ethically, prioritizing user privacy, fairness, and accountability.',\n",
              " 'On a broader scale, the integration of technology into various sectors, including education, healthcare, transportation, and entertainment, is reshaping societal norms and improving the quality of life.',\n",
              " 'E-learning platforms powered by AI and virtual reality are making education more accessible, enabling personalized learning experiences for students worldwide.',\n",
              " 'In healthcare, AI-powered diagnostic tools and robotic surgeries are enhancing medical precision and efficiency, leading to better patient outcomes.',\n",
              " 'Autonomous vehicles and smart traffic management systems are revolutionizing transportation, reducing accidents, optimizing traffic flow, and minimizing carbon emissions.',\n",
              " 'Meanwhile, the entertainment industry is embracing virtual reality, augmented reality, and AI-generated content to offer immersive and interactive experiences for audiences.',\n",
              " 'As technology continues to progress, the world must navigate both its opportunities and challenges, ensuring that innovation serves humanity in a responsible and sustainable manner.',\n",
              " 'The future holds limitless possibilities, and it is up to individuals, businesses, and policymakers to harness the power of technology for the greater good, fostering a world where digital advancements drive positive change, inclusivity, and progress for generations to come.']"
            ]
          },
          "metadata": {},
          "execution_count": 4
        }
      ]
    },
    {
      "cell_type": "code",
      "source": [
        "corpus = []\n",
        "for i in range(len(sentences)):\n",
        "  new_sent = re.sub(r'[^a-zA-Z]', ' ', sentences[i])\n",
        "  new_sent = new_sent.lower()\n",
        "  new_sent = new_sent.split()\n",
        "  review = []\n",
        "  for word in new_sent:\n",
        "    if word.lower() not in set(stopwords.words('english')):\n",
        "      review.append(stemmer.stem(word))\n",
        "  new_sent= ' '.join(review)\n",
        "  corpus.append(new_sent)\n",
        "print(corpus)"
      ],
      "metadata": {
        "colab": {
          "base_uri": "https://localhost:8080/"
        },
        "id": "4Oe5cGeEQ-d6",
        "outputId": "b73b7cd4-80b2-4325-b754-812a1be3246f"
      },
      "execution_count": 11,
      "outputs": [
        {
          "output_type": "stream",
          "name": "stdout",
          "text": [
            "['world technolog constantli evolv new innov emerg unpreced pace shape way live work interact one anoth', 'artifici intellig machin learn blockchain quantum comput rapid advanc field revolution industri across globe', 'ai driven autom streamlin busi oper enabl compani optim effici reduc cost enhanc custom experi like never', 'machin learn algorithm use analyz vast amount data uncov valuabl insight help busi make inform decis predict trend person user interact', 'meanwhil blockchain technolog transform financi sector offer decentr secur transact reduc risk fraud improv transpar suppli chain digit ident verif smart contract', 'quantum comput though still earli stage hold potenti solv complex problem current beyond capabl classic comput open door groundbreak discoveri medicin cryptographi materi scienc', 'technolog advanc cybersecur becom major concern cyber threat evolv alongsid digit innov', 'organ must invest robust secur measur encrypt multi factor authent continu monitor safeguard sensit data malici actor', 'rise internet thing iot expand digit landscap connect billion devic gener massiv amount real time data leverag smart citi healthcar industri autom', 'increas relianc technolog also led ethic discuss regard data privaci ai bias respons use emerg technolog', 'govern organ must establish regul polici ensur technolog develop implement ethic priorit user privaci fair account', 'broader scale integr technolog variou sector includ educ healthcar transport entertain reshap societ norm improv qualiti life', 'e learn platform power ai virtual realiti make educ access enabl person learn experi student worldwid', 'healthcar ai power diagnost tool robot surgeri enhanc medic precis effici lead better patient outcom', 'autonom vehicl smart traffic manag system revolution transport reduc accid optim traffic flow minim carbon emiss', 'meanwhil entertain industri embrac virtual realiti augment realiti ai gener content offer immers interact experi audienc', 'technolog continu progress world must navig opportun challeng ensur innov serv human respons sustain manner', 'futur hold limitless possibl individu busi policymak har power technolog greater good foster world digit advanc drive posit chang inclus progress gener come']\n"
          ]
        }
      ]
    },
    {
      "cell_type": "code",
      "source": [
        "\n",
        "\n",
        "# Create an empty list to store processed words\n",
        "review = []\n",
        "\n",
        "# Iterate through each word in new_sent\n",
        "for word in new_sent:\n",
        "    if word.lower() not in set(stopwords.words('english')):  # Convert to lowercase for better matching\n",
        "        review.append(stemmer.stem(word))  # Apply stemming and add to the list\n",
        "\n",
        "# Join the words back into a sentence\n",
        "new_sent = ' '.join(review)\n",
        "\n",
        "print(new_sent)  # Output: \"run beautiful\"\n"
      ],
      "metadata": {
        "colab": {
          "base_uri": "https://localhost:8080/"
        },
        "id": "6w3JNqW0Rg9P",
        "outputId": "96f1a969-9768-461b-e0fd-eee79c7e458b"
      },
      "execution_count": 9,
      "outputs": [
        {
          "output_type": "stream",
          "name": "stdout",
          "text": [
            "r u n   b e u\n"
          ]
        }
      ]
    },
    {
      "cell_type": "code",
      "source": [
        "from sklearn.feature_extraction.text import CountVectorizer\n",
        "cv = CountVectorizer(max_features=2000, stop_words='english', lowercase=True)\n",
        "X=cv.fit_transform(corpus).toarray()\n",
        "X"
      ],
      "metadata": {
        "colab": {
          "base_uri": "https://localhost:8080/"
        },
        "id": "k0c58eLVXrgs",
        "outputId": "aac527f8-a899-4b3d-b590-cb2d48ec14cb"
      },
      "execution_count": 12,
      "outputs": [
        {
          "output_type": "execute_result",
          "data": {
            "text/plain": [
              "array([[0, 0, 0, ..., 1, 1, 0],\n",
              "       [0, 0, 0, ..., 0, 0, 0],\n",
              "       [0, 0, 0, ..., 0, 0, 0],\n",
              "       ...,\n",
              "       [0, 0, 0, ..., 0, 0, 0],\n",
              "       [0, 0, 0, ..., 0, 1, 0],\n",
              "       [0, 0, 0, ..., 0, 1, 0]])"
            ]
          },
          "metadata": {},
          "execution_count": 12
        }
      ]
    },
    {
      "cell_type": "code",
      "source": [
        "import seaborn as sns\n",
        "import matplotlib.pyplot as plt"
      ],
      "metadata": {
        "id": "8KWVMHLcY45b"
      },
      "execution_count": 15,
      "outputs": []
    },
    {
      "cell_type": "code",
      "source": [
        "sns.heatmap(X)\n",
        "plt.xlabel('Repeatation of words')\n",
        "plt.ylabel('Sentences')\n",
        "plt.show()\n"
      ],
      "metadata": {
        "colab": {
          "base_uri": "https://localhost:8080/",
          "height": 468
        },
        "id": "dzps7EuTZZfg",
        "outputId": "d4d02757-370f-4fc8-d3da-74eeba4e2f78"
      },
      "execution_count": 18,
      "outputs": [
        {
          "output_type": "display_data",
          "data": {
            "text/plain": [
              "<Figure size 640x480 with 2 Axes>"
            ],
            "image/png": "[encoded data removed]"
          },
          "metadata": {}
        }
      ]
    },
    {
      "cell_type": "code",
      "source": [],
      "metadata": {
        "id": "JSrMlKXrZdGX"
      },
      "execution_count": null,
      "outputs": []
    }
  ]
}