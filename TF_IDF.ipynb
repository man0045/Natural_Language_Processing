{
  "nbformat": 4,
  "nbformat_minor": 0,
  "metadata": {
    "colab": {
      "provenance": [],
      "authorship_tag": "ABX9TyNoQ7/5H/Ur7kFVIxfypn/L",
      "include_colab_link": true
    },
    "kernelspec": {
      "name": "python3",
      "display_name": "Python 3"
    },
    "language_info": {
      "name": "python"
    }
  },
  "cells": [
    {
      "cell_type": "markdown",
      "metadata": {
        "id": "view-in-github",
        "colab_type": "text"
      },
      "source": [
        "<a href=\"https://colab.research.google.com/github/man0045/Natural_Language_Processing/blob/main/TF_IDF.ipynb\" target=\"_parent\"><img src=\"https://colab.research.google.com/assets/colab-badge.svg\" alt=\"Open In Colab\"/></a>"
      ]
    },
    {
      "cell_type": "code",
      "execution_count": null,
      "metadata": {
        "colab": {
          "base_uri": "https://localhost:8080/"
        },
        "id": "F5P-wFMD12kw",
        "outputId": "6e71a74b-5610-45cd-c5dc-6a8e835f40d8"
      },
      "outputs": [
        {
          "output_type": "stream",
          "name": "stdout",
          "text": [
            "['a', 'and', 'bag', 'by', 'case', 'corpus', 'demostrate', 'few', 'first', 'followed', 'in', 'is', 'more', 'of', 'one', 'our', 'second', 'sentence', 'the', 'this', 'title', 'to', 'with', 'words']\n"
          ]
        }
      ],
      "source": [
        "corpus = ['this is the first sentence in our corpus followed by one more sentence to demostrate Bag of Words', 'This is the second sentence in our corpus with a FEW WORDS and Few Title Case Words']\n",
        "\n",
        "vocab = []\n",
        "total_words = 0\n",
        "for sentence in corpus:\n",
        "  sentence = sentence.lower()\n",
        "  token_temp = sentence.split()\n",
        "  total_words = total_words + len(token_temp)\n",
        "  for word in token_temp:\n",
        "    if word not in vocab:\n",
        "      vocab.append(word)\n",
        "vocab.sort()\n",
        "print(vocab)"
      ]
    },
    {
      "cell_type": "code",
      "source": [
        "\n",
        "data =[\"I love Natural languagr Processing\", \"creating word vectors\", \"Is my jam!\"]\n",
        "from sklearn.feature_extraction.text import CountVectorizer\n",
        "cv = CountVectorizer(max_features=1500)\n",
        "X_bow = cv.fit_transform(data).toarray()\n",
        "X_bow\n",
        "print(\"BOW\", X_bow)\n",
        "from sklearn.feature_extraction.text import TfidfVectorizer\n",
        "\n",
        "#fit and transform\n",
        "\n",
        "tfvectorizer = TfidfVectorizer()\n",
        "X_tfidf = tfvectorizer.fit_transform(data).toarray()\n",
        "print(X_tfidf)"
      ],
      "metadata": {
        "colab": {
          "base_uri": "https://localhost:8080/"
        },
        "id": "USLM8rLF6f6q",
        "outputId": "7424fbff-7a4c-4ec6-d0bb-d2f669ea5a54"
      },
      "execution_count": null,
      "outputs": [
        {
          "output_type": "stream",
          "name": "stdout",
          "text": [
            "BOW [[0 0 0 1 1 0 1 1 0 0]\n",
            " [1 0 0 0 0 0 0 0 1 1]\n",
            " [0 1 1 0 0 1 0 0 0 0]]\n",
            "[[0.         0.         0.         0.5        0.5        0.\n",
            "  0.5        0.5        0.         0.        ]\n",
            " [0.57735027 0.         0.         0.         0.         0.\n",
            "  0.         0.         0.57735027 0.57735027]\n",
            " [0.         0.57735027 0.57735027 0.         0.         0.57735027\n",
            "  0.         0.         0.         0.        ]]\n"
          ]
        }
      ]
    },
    {
      "cell_type": "code",
      "source": [
        "import seaborn as sns\n"
      ],
      "metadata": {
        "id": "C6ul4DuPDVGk"
      },
      "execution_count": null,
      "outputs": []
    },
    {
      "cell_type": "code",
      "source": [
        "sns.histplot(X_tfidf)"
      ],
      "metadata": {
        "colab": {
          "base_uri": "https://localhost:8080/",
          "height": 447
        },
        "id": "GUkQIxfqDi44",
        "outputId": "187a500a-435f-442a-d098-9d150561d8e9"
      },
      "execution_count": null,
      "outputs": [
        {
          "output_type": "execute_result",
          "data": {
            "text/plain": [
              "<Axes: ylabel='Count'>"
            ]
          },
          "metadata": {},
          "execution_count": 20
        },
        {
          "output_type": "display_data",
          "data": {
            "text/plain": [
              "<Figure size 640x480 with 1 Axes>"
            ],
            "image/png": "[encoded data removed]"
          },
          "metadata": {}
        }
      ]
    },
    {
      "cell_type": "code",
      "source": [],
      "metadata": {
        "id": "EXNU2m-PDqhK"
      },
      "execution_count": null,
      "outputs": []
    }
  ]
}